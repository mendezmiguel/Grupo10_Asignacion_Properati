{
 "cells": [
  {
   "cell_type": "markdown",
   "metadata": {},
   "source": [
    "# 01) Importar librerias correspondientes"
   ]
  },
  {
   "cell_type": "code",
   "execution_count": 1,
   "metadata": {},
   "outputs": [],
   "source": [
    "import numpy as np\n",
    "import pandas as pd\n",
    "import matplotlib.pyplot as plt\n",
    "import seaborn as sns"
   ]
  },
  {
   "cell_type": "code",
   "execution_count": 2,
   "metadata": {},
   "outputs": [],
   "source": [
    "from sklearn import preprocessing\n",
    "from sklearn.model_selection import train_test_split\n",
    "from sklearn.linear_model import LinearRegression\n",
    "from sklearn.svm import SVR\n",
    "from sklearn.svm import LinearSVR\n",
    "from sklearn.neighbors import KNeighborsRegressor\n",
    "from sklearn.metrics import mean_squared_error, r2_score"
   ]
  },
  {
   "cell_type": "code",
   "execution_count": 3,
   "metadata": {},
   "outputs": [],
   "source": [
    "from sklearn.model_selection import GridSearchCV"
   ]
  },
  {
   "cell_type": "markdown",
   "metadata": {},
   "source": [
    "# 02) Importar dataset de properati"
   ]
  },
  {
   "cell_type": "code",
   "execution_count": 4,
   "metadata": {},
   "outputs": [],
   "source": [
    "properati = pd.read_csv(r'C:/Users/Miguel\\Desktop/Ciencia de Datos/Clase_04_Regresion\\clase_04-master/clusterai_2019_clase04_regresion_dataset_properati_caba.csv', delimiter=',', parse_dates = True)"
   ]
  },
  {
   "cell_type": "code",
   "execution_count": 5,
   "metadata": {},
   "outputs": [
    {
     "data": {
      "text/plain": [
       "(25319, 13)"
      ]
     },
     "execution_count": 5,
     "metadata": {},
     "output_type": "execute_result"
    }
   ],
   "source": [
    "np.shape(properati)"
   ]
  },
  {
   "cell_type": "code",
   "execution_count": 6,
   "metadata": {},
   "outputs": [
    {
     "data": {
      "text/plain": [
       "Index(['id', 'created_on', 'operation', 'property_type', 'neighbourhood',\n",
       "       'lat', 'lon', 'price', 'surface_total_in_m2', 'surface_covered_in_m2',\n",
       "       'floor', 'rooms', 'expenses'],\n",
       "      dtype='object')"
      ]
     },
     "execution_count": 6,
     "metadata": {},
     "output_type": "execute_result"
    }
   ],
   "source": [
    "properati.columns"
   ]
  },
  {
   "cell_type": "code",
   "execution_count": 7,
   "metadata": {},
   "outputs": [
    {
     "data": {
      "text/html": [
       "<div>\n",
       "<style scoped>\n",
       "    .dataframe tbody tr th:only-of-type {\n",
       "        vertical-align: middle;\n",
       "    }\n",
       "\n",
       "    .dataframe tbody tr th {\n",
       "        vertical-align: top;\n",
       "    }\n",
       "\n",
       "    .dataframe thead th {\n",
       "        text-align: right;\n",
       "    }\n",
       "</style>\n",
       "<table border=\"1\" class=\"dataframe\">\n",
       "  <thead>\n",
       "    <tr style=\"text-align: right;\">\n",
       "      <th></th>\n",
       "      <th>id</th>\n",
       "      <th>created_on</th>\n",
       "      <th>operation</th>\n",
       "      <th>property_type</th>\n",
       "      <th>neighbourhood</th>\n",
       "      <th>lat</th>\n",
       "      <th>lon</th>\n",
       "      <th>price</th>\n",
       "      <th>surface_total_in_m2</th>\n",
       "      <th>surface_covered_in_m2</th>\n",
       "      <th>floor</th>\n",
       "      <th>rooms</th>\n",
       "      <th>expenses</th>\n",
       "    </tr>\n",
       "  </thead>\n",
       "  <tbody>\n",
       "    <tr>\n",
       "      <th>0</th>\n",
       "      <td>1649a3c35359d681abae4a63d9a8545054d2096b</td>\n",
       "      <td>2017-09-22</td>\n",
       "      <td>sell</td>\n",
       "      <td>house</td>\n",
       "      <td>Palermo Viejo</td>\n",
       "      <td>-34.588953</td>\n",
       "      <td>-58.429882</td>\n",
       "      <td>2000000.0</td>\n",
       "      <td>312.0</td>\n",
       "      <td>NaN</td>\n",
       "      <td>NaN</td>\n",
       "      <td>NaN</td>\n",
       "      <td>NaN</td>\n",
       "    </tr>\n",
       "    <tr>\n",
       "      <th>1</th>\n",
       "      <td>1ab035ccbe77702987c3f09850d12c634e612aa2</td>\n",
       "      <td>2017-09-01</td>\n",
       "      <td>sell</td>\n",
       "      <td>PH</td>\n",
       "      <td>Parque Chacabuco</td>\n",
       "      <td>-34.635866</td>\n",
       "      <td>-58.431048</td>\n",
       "      <td>131500.0</td>\n",
       "      <td>80.0</td>\n",
       "      <td>50.0</td>\n",
       "      <td>NaN</td>\n",
       "      <td>3.0</td>\n",
       "      <td>NaN</td>\n",
       "    </tr>\n",
       "    <tr>\n",
       "      <th>2</th>\n",
       "      <td>90fc7c61b6fbc6ef99368a21cd9ac0d30d54c697</td>\n",
       "      <td>2017-09-01</td>\n",
       "      <td>sell</td>\n",
       "      <td>apartment</td>\n",
       "      <td>Barracas</td>\n",
       "      <td>-34.644924</td>\n",
       "      <td>-58.371919</td>\n",
       "      <td>140000.0</td>\n",
       "      <td>125.0</td>\n",
       "      <td>85.0</td>\n",
       "      <td>NaN</td>\n",
       "      <td>NaN</td>\n",
       "      <td>NaN</td>\n",
       "    </tr>\n",
       "    <tr>\n",
       "      <th>3</th>\n",
       "      <td>c195e8f3a596ab49b95d699c07e1a04be503ba68</td>\n",
       "      <td>2017-09-01</td>\n",
       "      <td>sell</td>\n",
       "      <td>apartment</td>\n",
       "      <td>Recoleta</td>\n",
       "      <td>-34.596511</td>\n",
       "      <td>-58.385747</td>\n",
       "      <td>109000.0</td>\n",
       "      <td>45.0</td>\n",
       "      <td>45.0</td>\n",
       "      <td>2.0</td>\n",
       "      <td>2.0</td>\n",
       "      <td>3350.0</td>\n",
       "    </tr>\n",
       "    <tr>\n",
       "      <th>4</th>\n",
       "      <td>f891875ff44e6f99e30e101b3901d1e7510ef41b</td>\n",
       "      <td>2017-09-01</td>\n",
       "      <td>sell</td>\n",
       "      <td>apartment</td>\n",
       "      <td>Parque Patricios</td>\n",
       "      <td>-34.639173</td>\n",
       "      <td>-58.417069</td>\n",
       "      <td>94000.0</td>\n",
       "      <td>38.0</td>\n",
       "      <td>38.0</td>\n",
       "      <td>NaN</td>\n",
       "      <td>NaN</td>\n",
       "      <td>NaN</td>\n",
       "    </tr>\n",
       "  </tbody>\n",
       "</table>\n",
       "</div>"
      ],
      "text/plain": [
       "                                         id  created_on operation  \\\n",
       "0  1649a3c35359d681abae4a63d9a8545054d2096b  2017-09-22      sell   \n",
       "1  1ab035ccbe77702987c3f09850d12c634e612aa2  2017-09-01      sell   \n",
       "2  90fc7c61b6fbc6ef99368a21cd9ac0d30d54c697  2017-09-01      sell   \n",
       "3  c195e8f3a596ab49b95d699c07e1a04be503ba68  2017-09-01      sell   \n",
       "4  f891875ff44e6f99e30e101b3901d1e7510ef41b  2017-09-01      sell   \n",
       "\n",
       "  property_type     neighbourhood        lat        lon      price  \\\n",
       "0         house     Palermo Viejo -34.588953 -58.429882  2000000.0   \n",
       "1            PH  Parque Chacabuco -34.635866 -58.431048   131500.0   \n",
       "2     apartment          Barracas -34.644924 -58.371919   140000.0   \n",
       "3     apartment          Recoleta -34.596511 -58.385747   109000.0   \n",
       "4     apartment  Parque Patricios -34.639173 -58.417069    94000.0   \n",
       "\n",
       "   surface_total_in_m2  surface_covered_in_m2  floor  rooms  expenses  \n",
       "0                312.0                    NaN    NaN    NaN       NaN  \n",
       "1                 80.0                   50.0    NaN    3.0       NaN  \n",
       "2                125.0                   85.0    NaN    NaN       NaN  \n",
       "3                 45.0                   45.0    2.0    2.0    3350.0  \n",
       "4                 38.0                   38.0    NaN    NaN       NaN  "
      ]
     },
     "execution_count": 7,
     "metadata": {},
     "output_type": "execute_result"
    }
   ],
   "source": [
    "properati.head()"
   ]
  },
  {
   "cell_type": "markdown",
   "metadata": {},
   "source": [
    "# 03) Revisar con que columnas trabajar para luego quitarle los NaNs (queremos predecir precio)"
   ]
  },
  {
   "cell_type": "code",
   "execution_count": 8,
   "metadata": {},
   "outputs": [
    {
     "name": "stdout",
     "output_type": "stream",
     "text": [
      "id                       False\n",
      "created_on               False\n",
      "operation                False\n",
      "property_type            False\n",
      "neighbourhood            False\n",
      "lat                       True\n",
      "lon                       True\n",
      "price                     True\n",
      "surface_total_in_m2       True\n",
      "surface_covered_in_m2     True\n",
      "floor                     True\n",
      "rooms                     True\n",
      "expenses                  True\n",
      "dtype: bool \r\n",
      "\n",
      "id                           0\n",
      "created_on                   0\n",
      "operation                    0\n",
      "property_type                0\n",
      "neighbourhood                0\n",
      "lat                       1048\n",
      "lon                       1048\n",
      "price                     1928\n",
      "surface_total_in_m2       3323\n",
      "surface_covered_in_m2     2529\n",
      "floor                    22093\n",
      "rooms                     6607\n",
      "expenses                 20289\n",
      "dtype: int64 \r\n",
      "\n"
     ]
    }
   ],
   "source": [
    "col_NaN = properati.isnull().any()\n",
    "print(col_NaN,'\\r\\n')\n",
    "cant_NaN = properati.isnull().sum()\n",
    "print(cant_NaN,'\\r\\n')\n"
   ]
  },
  {
   "cell_type": "code",
   "execution_count": 9,
   "metadata": {},
   "outputs": [],
   "source": [
    "properati1 = properati.drop(['id','created_on','operation','lat','lon','floor','expenses'], axis=1)"
   ]
  },
  {
   "cell_type": "code",
   "execution_count": 10,
   "metadata": {},
   "outputs": [],
   "source": [
    "properati2 = properati1.dropna(subset = ['price','surface_total_in_m2','surface_covered_in_m2','rooms'])"
   ]
  },
  {
   "cell_type": "code",
   "execution_count": 11,
   "metadata": {},
   "outputs": [
    {
     "data": {
      "text/plain": [
       "(16296, 6)"
      ]
     },
     "execution_count": 11,
     "metadata": {},
     "output_type": "execute_result"
    }
   ],
   "source": [
    "properati2.shape"
   ]
  },
  {
   "cell_type": "code",
   "execution_count": 12,
   "metadata": {},
   "outputs": [
    {
     "data": {
      "text/html": [
       "<div>\n",
       "<style scoped>\n",
       "    .dataframe tbody tr th:only-of-type {\n",
       "        vertical-align: middle;\n",
       "    }\n",
       "\n",
       "    .dataframe tbody tr th {\n",
       "        vertical-align: top;\n",
       "    }\n",
       "\n",
       "    .dataframe thead th {\n",
       "        text-align: right;\n",
       "    }\n",
       "</style>\n",
       "<table border=\"1\" class=\"dataframe\">\n",
       "  <thead>\n",
       "    <tr style=\"text-align: right;\">\n",
       "      <th></th>\n",
       "      <th>property_type</th>\n",
       "      <th>neighbourhood</th>\n",
       "      <th>price</th>\n",
       "      <th>surface_total_in_m2</th>\n",
       "      <th>surface_covered_in_m2</th>\n",
       "      <th>rooms</th>\n",
       "    </tr>\n",
       "  </thead>\n",
       "  <tbody>\n",
       "    <tr>\n",
       "      <th>1</th>\n",
       "      <td>PH</td>\n",
       "      <td>Parque Chacabuco</td>\n",
       "      <td>131500.0</td>\n",
       "      <td>80.0</td>\n",
       "      <td>50.0</td>\n",
       "      <td>3.0</td>\n",
       "    </tr>\n",
       "    <tr>\n",
       "      <th>3</th>\n",
       "      <td>apartment</td>\n",
       "      <td>Recoleta</td>\n",
       "      <td>109000.0</td>\n",
       "      <td>45.0</td>\n",
       "      <td>45.0</td>\n",
       "      <td>2.0</td>\n",
       "    </tr>\n",
       "    <tr>\n",
       "      <th>5</th>\n",
       "      <td>apartment</td>\n",
       "      <td>Flores</td>\n",
       "      <td>160000.0</td>\n",
       "      <td>76.0</td>\n",
       "      <td>76.0</td>\n",
       "      <td>3.0</td>\n",
       "    </tr>\n",
       "    <tr>\n",
       "      <th>6</th>\n",
       "      <td>apartment</td>\n",
       "      <td>Caballito</td>\n",
       "      <td>160000.0</td>\n",
       "      <td>76.0</td>\n",
       "      <td>76.0</td>\n",
       "      <td>3.0</td>\n",
       "    </tr>\n",
       "    <tr>\n",
       "      <th>7</th>\n",
       "      <td>apartment</td>\n",
       "      <td>Villa Crespo</td>\n",
       "      <td>240435.0</td>\n",
       "      <td>101.0</td>\n",
       "      <td>75.0</td>\n",
       "      <td>3.0</td>\n",
       "    </tr>\n",
       "  </tbody>\n",
       "</table>\n",
       "</div>"
      ],
      "text/plain": [
       "  property_type     neighbourhood     price  surface_total_in_m2  \\\n",
       "1            PH  Parque Chacabuco  131500.0                 80.0   \n",
       "3     apartment          Recoleta  109000.0                 45.0   \n",
       "5     apartment            Flores  160000.0                 76.0   \n",
       "6     apartment         Caballito  160000.0                 76.0   \n",
       "7     apartment      Villa Crespo  240435.0                101.0   \n",
       "\n",
       "   surface_covered_in_m2  rooms  \n",
       "1                   50.0    3.0  \n",
       "3                   45.0    2.0  \n",
       "5                   76.0    3.0  \n",
       "6                   76.0    3.0  \n",
       "7                   75.0    3.0  "
      ]
     },
     "execution_count": 12,
     "metadata": {},
     "output_type": "execute_result"
    }
   ],
   "source": [
    "properati2.head()"
   ]
  },
  {
   "cell_type": "code",
   "execution_count": 13,
   "metadata": {},
   "outputs": [
    {
     "data": {
      "text/plain": [
       "array([ 3.,  2.,  5.,  1.,  4.,  6.,  7.,  9.,  8., 10., 11., 12., 20.,\n",
       "       30., 13., 15., 32., 24., 17., 34., 21., 25.])"
      ]
     },
     "execution_count": 13,
     "metadata": {},
     "output_type": "execute_result"
    }
   ],
   "source": [
    "properati2['rooms'].unique()"
   ]
  },
  {
   "cell_type": "markdown",
   "metadata": {},
   "source": [
    "# 04) Quitar Outliers de las variables que consideren utilizando cuantiles"
   ]
  },
  {
   "cell_type": "code",
   "execution_count": 14,
   "metadata": {},
   "outputs": [
    {
     "name": "stdout",
     "output_type": "stream",
     "text": [
      "el cuantil 0.97 de la feature 'price' es = 2086406.625\n"
     ]
    }
   ],
   "source": [
    "price_q97 = properati2.price.quantile(0.975)\n",
    "print(\"el cuantil 0.97 de la feature 'price' es = \" + str(price_q97))"
   ]
  },
  {
   "cell_type": "code",
   "execution_count": 15,
   "metadata": {},
   "outputs": [
    {
     "name": "stdout",
     "output_type": "stream",
     "text": [
      "el cuantil 0.97 de la feature 'surface_total_in_m2' es = 379.625\n"
     ]
    }
   ],
   "source": [
    "surface_total_q97 = properati2.surface_total_in_m2.quantile(0.975)\n",
    "print(\"el cuantil 0.97 de la feature 'surface_total_in_m2' es = \" + str(surface_total_q97))"
   ]
  },
  {
   "cell_type": "code",
   "execution_count": 16,
   "metadata": {},
   "outputs": [
    {
     "name": "stdout",
     "output_type": "stream",
     "text": [
      "el cuantil 0.97 de la feature 'surface_covered_in_m2' es = 317.0\n"
     ]
    }
   ],
   "source": [
    "surface_covered_q97 = properati2.surface_covered_in_m2.quantile(0.975)\n",
    "print(\"el cuantil 0.97 de la feature 'surface_covered_in_m2' es = \" + str(surface_covered_q97))"
   ]
  },
  {
   "cell_type": "code",
   "execution_count": 17,
   "metadata": {},
   "outputs": [
    {
     "name": "stdout",
     "output_type": "stream",
     "text": [
      "el cuantil 0.97 de la feature 'rooms' es = 7.0\n"
     ]
    }
   ],
   "source": [
    "rooms_q97 = properati2.rooms.quantile(0.975)\n",
    "print(\"el cuantil 0.97 de la feature 'rooms' es = \" + str(rooms_q97))"
   ]
  },
  {
   "cell_type": "code",
   "execution_count": 18,
   "metadata": {},
   "outputs": [],
   "source": [
    "properati2_filt = properati2.loc[(properati2.price < price_q97) & (properati2.surface_total_in_m2 < surface_total_q97) & (properati2.surface_covered_in_m2 < surface_covered_q97) & (properati2.rooms < rooms_q97)]"
   ]
  },
  {
   "cell_type": "code",
   "execution_count": 19,
   "metadata": {},
   "outputs": [
    {
     "data": {
      "text/plain": [
       "(15237, 6)"
      ]
     },
     "execution_count": 19,
     "metadata": {},
     "output_type": "execute_result"
    }
   ],
   "source": [
    "properati2_filt.shape"
   ]
  },
  {
   "cell_type": "markdown",
   "metadata": {},
   "source": [
    "# 05) Realizar feature engineering si fuera necesario"
   ]
  },
  {
   "cell_type": "code",
   "execution_count": 20,
   "metadata": {},
   "outputs": [
    {
     "data": {
      "text/html": [
       "<div>\n",
       "<style scoped>\n",
       "    .dataframe tbody tr th:only-of-type {\n",
       "        vertical-align: middle;\n",
       "    }\n",
       "\n",
       "    .dataframe tbody tr th {\n",
       "        vertical-align: top;\n",
       "    }\n",
       "\n",
       "    .dataframe thead th {\n",
       "        text-align: right;\n",
       "    }\n",
       "</style>\n",
       "<table border=\"1\" class=\"dataframe\">\n",
       "  <thead>\n",
       "    <tr style=\"text-align: right;\">\n",
       "      <th></th>\n",
       "      <th>Abasto</th>\n",
       "      <th>Agronomía</th>\n",
       "      <th>Almagro</th>\n",
       "      <th>Balvanera</th>\n",
       "      <th>Barracas</th>\n",
       "      <th>Barrio Norte</th>\n",
       "      <th>Belgrano</th>\n",
       "      <th>Boca</th>\n",
       "      <th>Boedo</th>\n",
       "      <th>Caballito</th>\n",
       "      <th>...</th>\n",
       "      <th>Villa General Mitre</th>\n",
       "      <th>Villa Lugano</th>\n",
       "      <th>Villa Luro</th>\n",
       "      <th>Villa Ortuzar</th>\n",
       "      <th>Villa Pueyrredón</th>\n",
       "      <th>Villa Real</th>\n",
       "      <th>Villa Santa Rita</th>\n",
       "      <th>Villa Soldati</th>\n",
       "      <th>Villa Urquiza</th>\n",
       "      <th>Villa del Parque</th>\n",
       "    </tr>\n",
       "  </thead>\n",
       "  <tbody>\n",
       "    <tr>\n",
       "      <th>1</th>\n",
       "      <td>0</td>\n",
       "      <td>0</td>\n",
       "      <td>0</td>\n",
       "      <td>0</td>\n",
       "      <td>0</td>\n",
       "      <td>0</td>\n",
       "      <td>0</td>\n",
       "      <td>0</td>\n",
       "      <td>0</td>\n",
       "      <td>0</td>\n",
       "      <td>...</td>\n",
       "      <td>0</td>\n",
       "      <td>0</td>\n",
       "      <td>0</td>\n",
       "      <td>0</td>\n",
       "      <td>0</td>\n",
       "      <td>0</td>\n",
       "      <td>0</td>\n",
       "      <td>0</td>\n",
       "      <td>0</td>\n",
       "      <td>0</td>\n",
       "    </tr>\n",
       "    <tr>\n",
       "      <th>3</th>\n",
       "      <td>0</td>\n",
       "      <td>0</td>\n",
       "      <td>0</td>\n",
       "      <td>0</td>\n",
       "      <td>0</td>\n",
       "      <td>0</td>\n",
       "      <td>0</td>\n",
       "      <td>0</td>\n",
       "      <td>0</td>\n",
       "      <td>0</td>\n",
       "      <td>...</td>\n",
       "      <td>0</td>\n",
       "      <td>0</td>\n",
       "      <td>0</td>\n",
       "      <td>0</td>\n",
       "      <td>0</td>\n",
       "      <td>0</td>\n",
       "      <td>0</td>\n",
       "      <td>0</td>\n",
       "      <td>0</td>\n",
       "      <td>0</td>\n",
       "    </tr>\n",
       "    <tr>\n",
       "      <th>5</th>\n",
       "      <td>0</td>\n",
       "      <td>0</td>\n",
       "      <td>0</td>\n",
       "      <td>0</td>\n",
       "      <td>0</td>\n",
       "      <td>0</td>\n",
       "      <td>0</td>\n",
       "      <td>0</td>\n",
       "      <td>0</td>\n",
       "      <td>0</td>\n",
       "      <td>...</td>\n",
       "      <td>0</td>\n",
       "      <td>0</td>\n",
       "      <td>0</td>\n",
       "      <td>0</td>\n",
       "      <td>0</td>\n",
       "      <td>0</td>\n",
       "      <td>0</td>\n",
       "      <td>0</td>\n",
       "      <td>0</td>\n",
       "      <td>0</td>\n",
       "    </tr>\n",
       "  </tbody>\n",
       "</table>\n",
       "<p>3 rows × 61 columns</p>\n",
       "</div>"
      ],
      "text/plain": [
       "   Abasto  Agronomía  Almagro  Balvanera  Barracas  Barrio Norte  Belgrano  \\\n",
       "1       0          0        0          0         0             0         0   \n",
       "3       0          0        0          0         0             0         0   \n",
       "5       0          0        0          0         0             0         0   \n",
       "\n",
       "   Boca  Boedo  Caballito  ...  Villa General Mitre  Villa Lugano  Villa Luro  \\\n",
       "1     0      0          0  ...                    0             0           0   \n",
       "3     0      0          0  ...                    0             0           0   \n",
       "5     0      0          0  ...                    0             0           0   \n",
       "\n",
       "   Villa Ortuzar  Villa Pueyrredón  Villa Real  Villa Santa Rita  \\\n",
       "1              0                 0           0                 0   \n",
       "3              0                 0           0                 0   \n",
       "5              0                 0           0                 0   \n",
       "\n",
       "   Villa Soldati  Villa Urquiza  Villa del Parque  \n",
       "1              0              0                 0  \n",
       "3              0              0                 0  \n",
       "5              0              0                 0  \n",
       "\n",
       "[3 rows x 61 columns]"
      ]
     },
     "execution_count": 20,
     "metadata": {},
     "output_type": "execute_result"
    }
   ],
   "source": [
    "# dummies para la feature \"neighbourhood\"\n",
    "neighs_dummie = pd.get_dummies(properati2_filt.neighbourhood)\n",
    "neighs_dummie.head(3)"
   ]
  },
  {
   "cell_type": "code",
   "execution_count": 21,
   "metadata": {},
   "outputs": [
    {
     "data": {
      "text/html": [
       "<div>\n",
       "<style scoped>\n",
       "    .dataframe tbody tr th:only-of-type {\n",
       "        vertical-align: middle;\n",
       "    }\n",
       "\n",
       "    .dataframe tbody tr th {\n",
       "        vertical-align: top;\n",
       "    }\n",
       "\n",
       "    .dataframe thead th {\n",
       "        text-align: right;\n",
       "    }\n",
       "</style>\n",
       "<table border=\"1\" class=\"dataframe\">\n",
       "  <thead>\n",
       "    <tr style=\"text-align: right;\">\n",
       "      <th></th>\n",
       "      <th>PH</th>\n",
       "      <th>apartment</th>\n",
       "      <th>house</th>\n",
       "      <th>store</th>\n",
       "    </tr>\n",
       "  </thead>\n",
       "  <tbody>\n",
       "    <tr>\n",
       "      <th>1</th>\n",
       "      <td>1</td>\n",
       "      <td>0</td>\n",
       "      <td>0</td>\n",
       "      <td>0</td>\n",
       "    </tr>\n",
       "    <tr>\n",
       "      <th>3</th>\n",
       "      <td>0</td>\n",
       "      <td>1</td>\n",
       "      <td>0</td>\n",
       "      <td>0</td>\n",
       "    </tr>\n",
       "    <tr>\n",
       "      <th>5</th>\n",
       "      <td>0</td>\n",
       "      <td>1</td>\n",
       "      <td>0</td>\n",
       "      <td>0</td>\n",
       "    </tr>\n",
       "  </tbody>\n",
       "</table>\n",
       "</div>"
      ],
      "text/plain": [
       "   PH  apartment  house  store\n",
       "1   1          0      0      0\n",
       "3   0          1      0      0\n",
       "5   0          1      0      0"
      ]
     },
     "execution_count": 21,
     "metadata": {},
     "output_type": "execute_result"
    }
   ],
   "source": [
    "# dummies para la feature \"property_typee\"\n",
    "property_dummie = pd.get_dummies(properati2_filt.property_type)\n",
    "property_dummie.head(3)"
   ]
  },
  {
   "cell_type": "code",
   "execution_count": 22,
   "metadata": {},
   "outputs": [
    {
     "data": {
      "text/plain": [
       "(15237, 71)"
      ]
     },
     "execution_count": 22,
     "metadata": {},
     "output_type": "execute_result"
    }
   ],
   "source": [
    "properati2_filt = properati2_filt.join([neighs_dummie, property_dummie])\n",
    "properati2_filt.shape"
   ]
  },
  {
   "cell_type": "code",
   "execution_count": 23,
   "metadata": {},
   "outputs": [
    {
     "data": {
      "text/html": [
       "<div>\n",
       "<style scoped>\n",
       "    .dataframe tbody tr th:only-of-type {\n",
       "        vertical-align: middle;\n",
       "    }\n",
       "\n",
       "    .dataframe tbody tr th {\n",
       "        vertical-align: top;\n",
       "    }\n",
       "\n",
       "    .dataframe thead th {\n",
       "        text-align: right;\n",
       "    }\n",
       "</style>\n",
       "<table border=\"1\" class=\"dataframe\">\n",
       "  <thead>\n",
       "    <tr style=\"text-align: right;\">\n",
       "      <th></th>\n",
       "      <th>property_type</th>\n",
       "      <th>neighbourhood</th>\n",
       "      <th>price</th>\n",
       "      <th>surface_total_in_m2</th>\n",
       "      <th>surface_covered_in_m2</th>\n",
       "      <th>rooms</th>\n",
       "      <th>Abasto</th>\n",
       "      <th>Agronomía</th>\n",
       "      <th>Almagro</th>\n",
       "      <th>Balvanera</th>\n",
       "      <th>...</th>\n",
       "      <th>Villa Pueyrredón</th>\n",
       "      <th>Villa Real</th>\n",
       "      <th>Villa Santa Rita</th>\n",
       "      <th>Villa Soldati</th>\n",
       "      <th>Villa Urquiza</th>\n",
       "      <th>Villa del Parque</th>\n",
       "      <th>PH</th>\n",
       "      <th>apartment</th>\n",
       "      <th>house</th>\n",
       "      <th>store</th>\n",
       "    </tr>\n",
       "  </thead>\n",
       "  <tbody>\n",
       "    <tr>\n",
       "      <th>1</th>\n",
       "      <td>PH</td>\n",
       "      <td>Parque Chacabuco</td>\n",
       "      <td>131500.0</td>\n",
       "      <td>80.0</td>\n",
       "      <td>50.0</td>\n",
       "      <td>3.0</td>\n",
       "      <td>0</td>\n",
       "      <td>0</td>\n",
       "      <td>0</td>\n",
       "      <td>0</td>\n",
       "      <td>...</td>\n",
       "      <td>0</td>\n",
       "      <td>0</td>\n",
       "      <td>0</td>\n",
       "      <td>0</td>\n",
       "      <td>0</td>\n",
       "      <td>0</td>\n",
       "      <td>1</td>\n",
       "      <td>0</td>\n",
       "      <td>0</td>\n",
       "      <td>0</td>\n",
       "    </tr>\n",
       "    <tr>\n",
       "      <th>3</th>\n",
       "      <td>apartment</td>\n",
       "      <td>Recoleta</td>\n",
       "      <td>109000.0</td>\n",
       "      <td>45.0</td>\n",
       "      <td>45.0</td>\n",
       "      <td>2.0</td>\n",
       "      <td>0</td>\n",
       "      <td>0</td>\n",
       "      <td>0</td>\n",
       "      <td>0</td>\n",
       "      <td>...</td>\n",
       "      <td>0</td>\n",
       "      <td>0</td>\n",
       "      <td>0</td>\n",
       "      <td>0</td>\n",
       "      <td>0</td>\n",
       "      <td>0</td>\n",
       "      <td>0</td>\n",
       "      <td>1</td>\n",
       "      <td>0</td>\n",
       "      <td>0</td>\n",
       "    </tr>\n",
       "    <tr>\n",
       "      <th>5</th>\n",
       "      <td>apartment</td>\n",
       "      <td>Flores</td>\n",
       "      <td>160000.0</td>\n",
       "      <td>76.0</td>\n",
       "      <td>76.0</td>\n",
       "      <td>3.0</td>\n",
       "      <td>0</td>\n",
       "      <td>0</td>\n",
       "      <td>0</td>\n",
       "      <td>0</td>\n",
       "      <td>...</td>\n",
       "      <td>0</td>\n",
       "      <td>0</td>\n",
       "      <td>0</td>\n",
       "      <td>0</td>\n",
       "      <td>0</td>\n",
       "      <td>0</td>\n",
       "      <td>0</td>\n",
       "      <td>1</td>\n",
       "      <td>0</td>\n",
       "      <td>0</td>\n",
       "    </tr>\n",
       "    <tr>\n",
       "      <th>6</th>\n",
       "      <td>apartment</td>\n",
       "      <td>Caballito</td>\n",
       "      <td>160000.0</td>\n",
       "      <td>76.0</td>\n",
       "      <td>76.0</td>\n",
       "      <td>3.0</td>\n",
       "      <td>0</td>\n",
       "      <td>0</td>\n",
       "      <td>0</td>\n",
       "      <td>0</td>\n",
       "      <td>...</td>\n",
       "      <td>0</td>\n",
       "      <td>0</td>\n",
       "      <td>0</td>\n",
       "      <td>0</td>\n",
       "      <td>0</td>\n",
       "      <td>0</td>\n",
       "      <td>0</td>\n",
       "      <td>1</td>\n",
       "      <td>0</td>\n",
       "      <td>0</td>\n",
       "    </tr>\n",
       "    <tr>\n",
       "      <th>7</th>\n",
       "      <td>apartment</td>\n",
       "      <td>Villa Crespo</td>\n",
       "      <td>240435.0</td>\n",
       "      <td>101.0</td>\n",
       "      <td>75.0</td>\n",
       "      <td>3.0</td>\n",
       "      <td>0</td>\n",
       "      <td>0</td>\n",
       "      <td>0</td>\n",
       "      <td>0</td>\n",
       "      <td>...</td>\n",
       "      <td>0</td>\n",
       "      <td>0</td>\n",
       "      <td>0</td>\n",
       "      <td>0</td>\n",
       "      <td>0</td>\n",
       "      <td>0</td>\n",
       "      <td>0</td>\n",
       "      <td>1</td>\n",
       "      <td>0</td>\n",
       "      <td>0</td>\n",
       "    </tr>\n",
       "  </tbody>\n",
       "</table>\n",
       "<p>5 rows × 71 columns</p>\n",
       "</div>"
      ],
      "text/plain": [
       "  property_type     neighbourhood     price  surface_total_in_m2  \\\n",
       "1            PH  Parque Chacabuco  131500.0                 80.0   \n",
       "3     apartment          Recoleta  109000.0                 45.0   \n",
       "5     apartment            Flores  160000.0                 76.0   \n",
       "6     apartment         Caballito  160000.0                 76.0   \n",
       "7     apartment      Villa Crespo  240435.0                101.0   \n",
       "\n",
       "   surface_covered_in_m2  rooms  Abasto  Agronomía  Almagro  Balvanera  ...  \\\n",
       "1                   50.0    3.0       0          0        0          0  ...   \n",
       "3                   45.0    2.0       0          0        0          0  ...   \n",
       "5                   76.0    3.0       0          0        0          0  ...   \n",
       "6                   76.0    3.0       0          0        0          0  ...   \n",
       "7                   75.0    3.0       0          0        0          0  ...   \n",
       "\n",
       "   Villa Pueyrredón  Villa Real  Villa Santa Rita  Villa Soldati  \\\n",
       "1                 0           0                 0              0   \n",
       "3                 0           0                 0              0   \n",
       "5                 0           0                 0              0   \n",
       "6                 0           0                 0              0   \n",
       "7                 0           0                 0              0   \n",
       "\n",
       "   Villa Urquiza  Villa del Parque  PH  apartment  house  store  \n",
       "1              0                 0   1          0      0      0  \n",
       "3              0                 0   0          1      0      0  \n",
       "5              0                 0   0          1      0      0  \n",
       "6              0                 0   0          1      0      0  \n",
       "7              0                 0   0          1      0      0  \n",
       "\n",
       "[5 rows x 71 columns]"
      ]
     },
     "execution_count": 23,
     "metadata": {},
     "output_type": "execute_result"
    }
   ],
   "source": [
    "properati2_filt.head()"
   ]
  },
  {
   "cell_type": "code",
   "execution_count": 24,
   "metadata": {},
   "outputs": [],
   "source": [
    "#dropeo las features para las cuales generé dummies\n",
    "\n",
    "properati2_filt = properati2_filt.drop(['property_type','neighbourhood'], axis=1)"
   ]
  },
  {
   "cell_type": "code",
   "execution_count": 25,
   "metadata": {},
   "outputs": [
    {
     "data": {
      "text/html": [
       "<div>\n",
       "<style scoped>\n",
       "    .dataframe tbody tr th:only-of-type {\n",
       "        vertical-align: middle;\n",
       "    }\n",
       "\n",
       "    .dataframe tbody tr th {\n",
       "        vertical-align: top;\n",
       "    }\n",
       "\n",
       "    .dataframe thead th {\n",
       "        text-align: right;\n",
       "    }\n",
       "</style>\n",
       "<table border=\"1\" class=\"dataframe\">\n",
       "  <thead>\n",
       "    <tr style=\"text-align: right;\">\n",
       "      <th></th>\n",
       "      <th>price</th>\n",
       "      <th>surface_total_in_m2</th>\n",
       "      <th>surface_covered_in_m2</th>\n",
       "      <th>rooms</th>\n",
       "      <th>Abasto</th>\n",
       "      <th>Agronomía</th>\n",
       "      <th>Almagro</th>\n",
       "      <th>Balvanera</th>\n",
       "      <th>Barracas</th>\n",
       "      <th>Barrio Norte</th>\n",
       "      <th>...</th>\n",
       "      <th>Villa Pueyrredón</th>\n",
       "      <th>Villa Real</th>\n",
       "      <th>Villa Santa Rita</th>\n",
       "      <th>Villa Soldati</th>\n",
       "      <th>Villa Urquiza</th>\n",
       "      <th>Villa del Parque</th>\n",
       "      <th>PH</th>\n",
       "      <th>apartment</th>\n",
       "      <th>house</th>\n",
       "      <th>store</th>\n",
       "    </tr>\n",
       "  </thead>\n",
       "  <tbody>\n",
       "    <tr>\n",
       "      <th>1</th>\n",
       "      <td>131500.0</td>\n",
       "      <td>80.0</td>\n",
       "      <td>50.0</td>\n",
       "      <td>3.0</td>\n",
       "      <td>0</td>\n",
       "      <td>0</td>\n",
       "      <td>0</td>\n",
       "      <td>0</td>\n",
       "      <td>0</td>\n",
       "      <td>0</td>\n",
       "      <td>...</td>\n",
       "      <td>0</td>\n",
       "      <td>0</td>\n",
       "      <td>0</td>\n",
       "      <td>0</td>\n",
       "      <td>0</td>\n",
       "      <td>0</td>\n",
       "      <td>1</td>\n",
       "      <td>0</td>\n",
       "      <td>0</td>\n",
       "      <td>0</td>\n",
       "    </tr>\n",
       "    <tr>\n",
       "      <th>3</th>\n",
       "      <td>109000.0</td>\n",
       "      <td>45.0</td>\n",
       "      <td>45.0</td>\n",
       "      <td>2.0</td>\n",
       "      <td>0</td>\n",
       "      <td>0</td>\n",
       "      <td>0</td>\n",
       "      <td>0</td>\n",
       "      <td>0</td>\n",
       "      <td>0</td>\n",
       "      <td>...</td>\n",
       "      <td>0</td>\n",
       "      <td>0</td>\n",
       "      <td>0</td>\n",
       "      <td>0</td>\n",
       "      <td>0</td>\n",
       "      <td>0</td>\n",
       "      <td>0</td>\n",
       "      <td>1</td>\n",
       "      <td>0</td>\n",
       "      <td>0</td>\n",
       "    </tr>\n",
       "    <tr>\n",
       "      <th>5</th>\n",
       "      <td>160000.0</td>\n",
       "      <td>76.0</td>\n",
       "      <td>76.0</td>\n",
       "      <td>3.0</td>\n",
       "      <td>0</td>\n",
       "      <td>0</td>\n",
       "      <td>0</td>\n",
       "      <td>0</td>\n",
       "      <td>0</td>\n",
       "      <td>0</td>\n",
       "      <td>...</td>\n",
       "      <td>0</td>\n",
       "      <td>0</td>\n",
       "      <td>0</td>\n",
       "      <td>0</td>\n",
       "      <td>0</td>\n",
       "      <td>0</td>\n",
       "      <td>0</td>\n",
       "      <td>1</td>\n",
       "      <td>0</td>\n",
       "      <td>0</td>\n",
       "    </tr>\n",
       "    <tr>\n",
       "      <th>6</th>\n",
       "      <td>160000.0</td>\n",
       "      <td>76.0</td>\n",
       "      <td>76.0</td>\n",
       "      <td>3.0</td>\n",
       "      <td>0</td>\n",
       "      <td>0</td>\n",
       "      <td>0</td>\n",
       "      <td>0</td>\n",
       "      <td>0</td>\n",
       "      <td>0</td>\n",
       "      <td>...</td>\n",
       "      <td>0</td>\n",
       "      <td>0</td>\n",
       "      <td>0</td>\n",
       "      <td>0</td>\n",
       "      <td>0</td>\n",
       "      <td>0</td>\n",
       "      <td>0</td>\n",
       "      <td>1</td>\n",
       "      <td>0</td>\n",
       "      <td>0</td>\n",
       "    </tr>\n",
       "    <tr>\n",
       "      <th>7</th>\n",
       "      <td>240435.0</td>\n",
       "      <td>101.0</td>\n",
       "      <td>75.0</td>\n",
       "      <td>3.0</td>\n",
       "      <td>0</td>\n",
       "      <td>0</td>\n",
       "      <td>0</td>\n",
       "      <td>0</td>\n",
       "      <td>0</td>\n",
       "      <td>0</td>\n",
       "      <td>...</td>\n",
       "      <td>0</td>\n",
       "      <td>0</td>\n",
       "      <td>0</td>\n",
       "      <td>0</td>\n",
       "      <td>0</td>\n",
       "      <td>0</td>\n",
       "      <td>0</td>\n",
       "      <td>1</td>\n",
       "      <td>0</td>\n",
       "      <td>0</td>\n",
       "    </tr>\n",
       "  </tbody>\n",
       "</table>\n",
       "<p>5 rows × 69 columns</p>\n",
       "</div>"
      ],
      "text/plain": [
       "      price  surface_total_in_m2  surface_covered_in_m2  rooms  Abasto  \\\n",
       "1  131500.0                 80.0                   50.0    3.0       0   \n",
       "3  109000.0                 45.0                   45.0    2.0       0   \n",
       "5  160000.0                 76.0                   76.0    3.0       0   \n",
       "6  160000.0                 76.0                   76.0    3.0       0   \n",
       "7  240435.0                101.0                   75.0    3.0       0   \n",
       "\n",
       "   Agronomía  Almagro  Balvanera  Barracas  Barrio Norte  ...  \\\n",
       "1          0        0          0         0             0  ...   \n",
       "3          0        0          0         0             0  ...   \n",
       "5          0        0          0         0             0  ...   \n",
       "6          0        0          0         0             0  ...   \n",
       "7          0        0          0         0             0  ...   \n",
       "\n",
       "   Villa Pueyrredón  Villa Real  Villa Santa Rita  Villa Soldati  \\\n",
       "1                 0           0                 0              0   \n",
       "3                 0           0                 0              0   \n",
       "5                 0           0                 0              0   \n",
       "6                 0           0                 0              0   \n",
       "7                 0           0                 0              0   \n",
       "\n",
       "   Villa Urquiza  Villa del Parque  PH  apartment  house  store  \n",
       "1              0                 0   1          0      0      0  \n",
       "3              0                 0   0          1      0      0  \n",
       "5              0                 0   0          1      0      0  \n",
       "6              0                 0   0          1      0      0  \n",
       "7              0                 0   0          1      0      0  \n",
       "\n",
       "[5 rows x 69 columns]"
      ]
     },
     "execution_count": 25,
     "metadata": {},
     "output_type": "execute_result"
    }
   ],
   "source": [
    "properati2_filt.head()"
   ]
  },
  {
   "cell_type": "markdown",
   "metadata": {},
   "source": [
    "# 06) Separar Y (price) & X (decidir que features utilizar para trabajar)\n",
    "Recuerden realizar auto scaling sobre las variables en cuestion"
   ]
  },
  {
   "cell_type": "code",
   "execution_count": 26,
   "metadata": {},
   "outputs": [],
   "source": [
    "y = np.array(properati2_filt[['price']])"
   ]
  },
  {
   "cell_type": "code",
   "execution_count": 27,
   "metadata": {},
   "outputs": [],
   "source": [
    "x = properati2_filt.drop(['price'], axis=1)"
   ]
  },
  {
   "cell_type": "code",
   "execution_count": 28,
   "metadata": {},
   "outputs": [],
   "source": [
    "xtrain, xtest, ytrain, ytest = train_test_split(x, y, test_size=0.10, random_state=42)"
   ]
  },
  {
   "cell_type": "code",
   "execution_count": 29,
   "metadata": {},
   "outputs": [
    {
     "data": {
      "text/html": [
       "<div>\n",
       "<style scoped>\n",
       "    .dataframe tbody tr th:only-of-type {\n",
       "        vertical-align: middle;\n",
       "    }\n",
       "\n",
       "    .dataframe tbody tr th {\n",
       "        vertical-align: top;\n",
       "    }\n",
       "\n",
       "    .dataframe thead th {\n",
       "        text-align: right;\n",
       "    }\n",
       "</style>\n",
       "<table border=\"1\" class=\"dataframe\">\n",
       "  <thead>\n",
       "    <tr style=\"text-align: right;\">\n",
       "      <th></th>\n",
       "      <th>surface_total_in_m2</th>\n",
       "      <th>surface_covered_in_m2</th>\n",
       "      <th>rooms</th>\n",
       "      <th>Abasto</th>\n",
       "      <th>Agronomía</th>\n",
       "      <th>Almagro</th>\n",
       "      <th>Balvanera</th>\n",
       "      <th>Barracas</th>\n",
       "      <th>Barrio Norte</th>\n",
       "      <th>Belgrano</th>\n",
       "      <th>...</th>\n",
       "      <th>Villa Pueyrredón</th>\n",
       "      <th>Villa Real</th>\n",
       "      <th>Villa Santa Rita</th>\n",
       "      <th>Villa Soldati</th>\n",
       "      <th>Villa Urquiza</th>\n",
       "      <th>Villa del Parque</th>\n",
       "      <th>PH</th>\n",
       "      <th>apartment</th>\n",
       "      <th>house</th>\n",
       "      <th>store</th>\n",
       "    </tr>\n",
       "  </thead>\n",
       "  <tbody>\n",
       "    <tr>\n",
       "      <th>11733</th>\n",
       "      <td>44.0</td>\n",
       "      <td>40.0</td>\n",
       "      <td>2.0</td>\n",
       "      <td>0</td>\n",
       "      <td>0</td>\n",
       "      <td>0</td>\n",
       "      <td>0</td>\n",
       "      <td>0</td>\n",
       "      <td>1</td>\n",
       "      <td>0</td>\n",
       "      <td>...</td>\n",
       "      <td>0</td>\n",
       "      <td>0</td>\n",
       "      <td>0</td>\n",
       "      <td>0</td>\n",
       "      <td>0</td>\n",
       "      <td>0</td>\n",
       "      <td>0</td>\n",
       "      <td>1</td>\n",
       "      <td>0</td>\n",
       "      <td>0</td>\n",
       "    </tr>\n",
       "    <tr>\n",
       "      <th>13318</th>\n",
       "      <td>116.0</td>\n",
       "      <td>75.0</td>\n",
       "      <td>2.0</td>\n",
       "      <td>0</td>\n",
       "      <td>0</td>\n",
       "      <td>0</td>\n",
       "      <td>0</td>\n",
       "      <td>0</td>\n",
       "      <td>0</td>\n",
       "      <td>0</td>\n",
       "      <td>...</td>\n",
       "      <td>0</td>\n",
       "      <td>0</td>\n",
       "      <td>0</td>\n",
       "      <td>0</td>\n",
       "      <td>0</td>\n",
       "      <td>0</td>\n",
       "      <td>0</td>\n",
       "      <td>1</td>\n",
       "      <td>0</td>\n",
       "      <td>0</td>\n",
       "    </tr>\n",
       "    <tr>\n",
       "      <th>11691</th>\n",
       "      <td>102.0</td>\n",
       "      <td>42.0</td>\n",
       "      <td>2.0</td>\n",
       "      <td>0</td>\n",
       "      <td>0</td>\n",
       "      <td>0</td>\n",
       "      <td>0</td>\n",
       "      <td>0</td>\n",
       "      <td>0</td>\n",
       "      <td>0</td>\n",
       "      <td>...</td>\n",
       "      <td>0</td>\n",
       "      <td>0</td>\n",
       "      <td>0</td>\n",
       "      <td>0</td>\n",
       "      <td>0</td>\n",
       "      <td>0</td>\n",
       "      <td>0</td>\n",
       "      <td>1</td>\n",
       "      <td>0</td>\n",
       "      <td>0</td>\n",
       "    </tr>\n",
       "    <tr>\n",
       "      <th>15039</th>\n",
       "      <td>42.0</td>\n",
       "      <td>42.0</td>\n",
       "      <td>2.0</td>\n",
       "      <td>0</td>\n",
       "      <td>0</td>\n",
       "      <td>0</td>\n",
       "      <td>0</td>\n",
       "      <td>0</td>\n",
       "      <td>0</td>\n",
       "      <td>0</td>\n",
       "      <td>...</td>\n",
       "      <td>0</td>\n",
       "      <td>0</td>\n",
       "      <td>0</td>\n",
       "      <td>0</td>\n",
       "      <td>0</td>\n",
       "      <td>0</td>\n",
       "      <td>1</td>\n",
       "      <td>0</td>\n",
       "      <td>0</td>\n",
       "      <td>0</td>\n",
       "    </tr>\n",
       "    <tr>\n",
       "      <th>8081</th>\n",
       "      <td>134.0</td>\n",
       "      <td>129.0</td>\n",
       "      <td>5.0</td>\n",
       "      <td>0</td>\n",
       "      <td>0</td>\n",
       "      <td>0</td>\n",
       "      <td>0</td>\n",
       "      <td>0</td>\n",
       "      <td>0</td>\n",
       "      <td>0</td>\n",
       "      <td>...</td>\n",
       "      <td>0</td>\n",
       "      <td>0</td>\n",
       "      <td>0</td>\n",
       "      <td>0</td>\n",
       "      <td>0</td>\n",
       "      <td>0</td>\n",
       "      <td>0</td>\n",
       "      <td>1</td>\n",
       "      <td>0</td>\n",
       "      <td>0</td>\n",
       "    </tr>\n",
       "  </tbody>\n",
       "</table>\n",
       "<p>5 rows × 68 columns</p>\n",
       "</div>"
      ],
      "text/plain": [
       "       surface_total_in_m2  surface_covered_in_m2  rooms  Abasto  Agronomía  \\\n",
       "11733                 44.0                   40.0    2.0       0          0   \n",
       "13318                116.0                   75.0    2.0       0          0   \n",
       "11691                102.0                   42.0    2.0       0          0   \n",
       "15039                 42.0                   42.0    2.0       0          0   \n",
       "8081                 134.0                  129.0    5.0       0          0   \n",
       "\n",
       "       Almagro  Balvanera  Barracas  Barrio Norte  Belgrano  ...  \\\n",
       "11733        0          0         0             1         0  ...   \n",
       "13318        0          0         0             0         0  ...   \n",
       "11691        0          0         0             0         0  ...   \n",
       "15039        0          0         0             0         0  ...   \n",
       "8081         0          0         0             0         0  ...   \n",
       "\n",
       "       Villa Pueyrredón  Villa Real  Villa Santa Rita  Villa Soldati  \\\n",
       "11733                 0           0                 0              0   \n",
       "13318                 0           0                 0              0   \n",
       "11691                 0           0                 0              0   \n",
       "15039                 0           0                 0              0   \n",
       "8081                  0           0                 0              0   \n",
       "\n",
       "       Villa Urquiza  Villa del Parque  PH  apartment  house  store  \n",
       "11733              0                 0   0          1      0      0  \n",
       "13318              0                 0   0          1      0      0  \n",
       "11691              0                 0   0          1      0      0  \n",
       "15039              0                 0   1          0      0      0  \n",
       "8081               0                 0   0          1      0      0  \n",
       "\n",
       "[5 rows x 68 columns]"
      ]
     },
     "execution_count": 29,
     "metadata": {},
     "output_type": "execute_result"
    }
   ],
   "source": [
    "xtrain.head()"
   ]
  },
  {
   "cell_type": "code",
   "execution_count": 30,
   "metadata": {},
   "outputs": [
    {
     "data": {
      "text/plain": [
       "(13713, 68)"
      ]
     },
     "execution_count": 30,
     "metadata": {},
     "output_type": "execute_result"
    }
   ],
   "source": [
    "xtrain.shape"
   ]
  },
  {
   "cell_type": "code",
   "execution_count": 31,
   "metadata": {},
   "outputs": [
    {
     "data": {
      "text/plain": [
       "StandardScaler(copy=True, with_mean=True, with_std=True)"
      ]
     },
     "execution_count": 31,
     "metadata": {},
     "output_type": "execute_result"
    }
   ],
   "source": [
    "# Step 4: auto scaling train- set (mean = 0, std = 1)\n",
    "scaler = preprocessing.StandardScaler().fit(xtrain)\n",
    "scaler"
   ]
  },
  {
   "cell_type": "code",
   "execution_count": 32,
   "metadata": {},
   "outputs": [],
   "source": [
    "# auto scalo mis muestras de train utilizando el scaler fiteado con el xtrain\n",
    "xtrain_scal = scaler.transform(xtrain)  "
   ]
  },
  {
   "cell_type": "code",
   "execution_count": 33,
   "metadata": {},
   "outputs": [],
   "source": [
    "# auto scalo mis muestras de test utilizando el scaler fiteado con el xtrain\n",
    "xtest_scal = scaler.transform(xtest)  "
   ]
  },
  {
   "cell_type": "markdown",
   "metadata": {},
   "source": [
    "# 07) Implementar un modelo de regresion para predecir el precio. De ser posible comparar performance de distintos modelos."
   ]
  },
  {
   "cell_type": "markdown",
   "metadata": {},
   "source": [
    "# LR"
   ]
  },
  {
   "cell_type": "code",
   "execution_count": 34,
   "metadata": {},
   "outputs": [],
   "source": [
    "# 1) creo un modelo generico de regresion lineal\n",
    "lr = LinearRegression()"
   ]
  },
  {
   "cell_type": "code",
   "execution_count": 35,
   "metadata": {},
   "outputs": [
    {
     "data": {
      "text/plain": [
       "LinearRegression(copy_X=True, fit_intercept=True, n_jobs=None, normalize=False)"
      ]
     },
     "execution_count": 35,
     "metadata": {},
     "output_type": "execute_result"
    }
   ],
   "source": [
    "# 2) Ajusto el modelo de regresion lineal utilizando el set de train, tanto las features X como las samples Y\n",
    "\n",
    "#n_jobs para definir la cantidad de nucleos que se utilizan ('None = uno por default')\n",
    "\n",
    "lr.fit(xtrain_scal, ytrain)"
   ]
  },
  {
   "cell_type": "code",
   "execution_count": 36,
   "metadata": {},
   "outputs": [],
   "source": [
    "# 3) Obtengo las predicciones que realiza mi modelo con las muestras de test, sin mostrarle las labels (Ytest)\n",
    "# las predicciones las guardo en el vector \"ypred\"\n",
    "ypred = lr.predict(xtest_scal)"
   ]
  },
  {
   "cell_type": "code",
   "execution_count": 37,
   "metadata": {},
   "outputs": [
    {
     "data": {
      "text/plain": [
       "(1524, 1)"
      ]
     },
     "execution_count": 37,
     "metadata": {},
     "output_type": "execute_result"
    }
   ],
   "source": [
    "np.shape(ypred)"
   ]
  },
  {
   "cell_type": "code",
   "execution_count": 38,
   "metadata": {},
   "outputs": [
    {
     "data": {
      "text/plain": [
       "214643.17028987955"
      ]
     },
     "execution_count": 38,
     "metadata": {},
     "output_type": "execute_result"
    }
   ],
   "source": [
    "# calculo el error de mi modelo con las muestras de train = error de train\n",
    "#el resultado en la misma escala que el valor de la feature\n",
    "\n",
    "# calculo el RMSE (root mean square error) del test\n",
    "\n",
    "np.sqrt(mean_squared_error(ytest, ypred))"
   ]
  },
  {
   "cell_type": "code",
   "execution_count": 39,
   "metadata": {},
   "outputs": [
    {
     "data": {
      "text/plain": [
       "46071690552.090225"
      ]
     },
     "execution_count": 39,
     "metadata": {},
     "output_type": "execute_result"
    }
   ],
   "source": [
    "# calculo el MSE (mean square error) del test\n",
    "mean_squared_error(ytest, ypred)"
   ]
  },
  {
   "cell_type": "code",
   "execution_count": 40,
   "metadata": {},
   "outputs": [],
   "source": [
    "from sklearn.metrics import mean_absolute_error"
   ]
  },
  {
   "cell_type": "code",
   "execution_count": 41,
   "metadata": {},
   "outputs": [
    {
     "data": {
      "text/plain": [
       "105890.1248661894"
      ]
     },
     "execution_count": 41,
     "metadata": {},
     "output_type": "execute_result"
    }
   ],
   "source": [
    "# calculo el MAE (mean absolute error) del test\n",
    "mean_absolute_error(ytest, ypred)"
   ]
  },
  {
   "cell_type": "code",
   "execution_count": 42,
   "metadata": {},
   "outputs": [],
   "source": [
    "#Lo mismo para train\n",
    "ytrainpred = lr.predict(xtrain_scal)"
   ]
  },
  {
   "cell_type": "code",
   "execution_count": 45,
   "metadata": {},
   "outputs": [
    {
     "data": {
      "text/plain": [
       "231662.29836373395"
      ]
     },
     "execution_count": 45,
     "metadata": {},
     "output_type": "execute_result"
    }
   ],
   "source": [
    "# calculo el RMSE (root mean square error) del train\n",
    "np.sqrt(mean_squared_error(ytrain, ytrainpred))"
   ]
  },
  {
   "cell_type": "code",
   "execution_count": 46,
   "metadata": {},
   "outputs": [
    {
     "data": {
      "text/plain": [
       "110156.36545488519"
      ]
     },
     "execution_count": 46,
     "metadata": {},
     "output_type": "execute_result"
    }
   ],
   "source": [
    "# calculo el MAE (mean absolute error) del train\n",
    "mean_absolute_error(ytrain, ytrainpred)"
   ]
  },
  {
   "cell_type": "markdown",
   "metadata": {},
   "source": [
    "# KNN"
   ]
  },
  {
   "cell_type": "code",
   "execution_count": 47,
   "metadata": {},
   "outputs": [],
   "source": [
    "# creamos nuestro modelo de KNN que se llama neigh\n",
    "neigh = KNeighborsRegressor(weights = \"distance\")"
   ]
  },
  {
   "cell_type": "code",
   "execution_count": 49,
   "metadata": {},
   "outputs": [
    {
     "data": {
      "text/plain": [
       "array([17, 24, 31, 38, 45])"
      ]
     },
     "execution_count": 49,
     "metadata": {},
     "output_type": "execute_result"
    }
   ],
   "source": [
    " # creo un array de 5 posiciones con los valores del hiperparametro \"k\" que quiero probar por gridsearch\n",
    "parameters_k = np.arange(17,49,7)\n",
    "parameters_k"
   ]
  },
  {
   "cell_type": "code",
   "execution_count": 50,
   "metadata": {},
   "outputs": [],
   "source": [
    "# creo un diccionario \"tuned_params\" con los parametros que quiero optimizar, e indico que valores de\n",
    "# ese parametro quiero probar\n",
    "parameters_knn = [{'n_neighbors': parameters_k}]"
   ]
  },
  {
   "cell_type": "code",
   "execution_count": 51,
   "metadata": {},
   "outputs": [],
   "source": [
    "# indico la cantidad de folds que quiero utilizar en mi training para cross validation\n",
    "n_folds = 5"
   ]
  },
  {
   "cell_type": "code",
   "execution_count": 52,
   "metadata": {},
   "outputs": [],
   "source": [
    "regresor_neigh = GridSearchCV(neigh, parameters_knn, refit = True, cv=n_folds, verbose=True)"
   ]
  },
  {
   "cell_type": "code",
   "execution_count": 53,
   "metadata": {},
   "outputs": [
    {
     "name": "stdout",
     "output_type": "stream",
     "text": [
      "Fitting 5 folds for each of 5 candidates, totalling 25 fits\n"
     ]
    },
    {
     "name": "stderr",
     "output_type": "stream",
     "text": [
      "[Parallel(n_jobs=1)]: Using backend SequentialBackend with 1 concurrent workers.\n",
      "[Parallel(n_jobs=1)]: Done  25 out of  25 | elapsed:  1.6min finished\n"
     ]
    },
    {
     "data": {
      "text/plain": [
       "GridSearchCV(cv=5, error_score='raise-deprecating',\n",
       "             estimator=KNeighborsRegressor(algorithm='auto', leaf_size=30,\n",
       "                                           metric='minkowski',\n",
       "                                           metric_params=None, n_jobs=None,\n",
       "                                           n_neighbors=5, p=2,\n",
       "                                           weights='distance'),\n",
       "             iid='warn', n_jobs=None,\n",
       "             param_grid=[{'n_neighbors': array([17, 24, 31, 38, 45])}],\n",
       "             pre_dispatch='2*n_jobs', refit=True, return_train_score=False,\n",
       "             scoring=None, verbose=True)"
      ]
     },
     "execution_count": 53,
     "metadata": {},
     "output_type": "execute_result"
    }
   ],
   "source": [
    "# entreno modelo regresor con mi set de entrenamiento (tanto Xtrain como Ytrain)\n",
    "regresor_neigh.fit(xtrain_scal, ytrain)"
   ]
  },
  {
   "cell_type": "code",
   "execution_count": 54,
   "metadata": {},
   "outputs": [
    {
     "data": {
      "text/plain": [
       "{'n_neighbors': 31}"
      ]
     },
     "execution_count": 54,
     "metadata": {},
     "output_type": "execute_result"
    }
   ],
   "source": [
    "# observo cual fue el parametro que \"gano\" en el cross validation y grid search\n",
    "regresor_neigh.best_params_"
   ]
  },
  {
   "cell_type": "code",
   "execution_count": 55,
   "metadata": {},
   "outputs": [
    {
     "data": {
      "text/plain": [
       "0.6717200594201005"
      ]
     },
     "execution_count": 55,
     "metadata": {},
     "output_type": "execute_result"
    }
   ],
   "source": [
    "# calcula el R2\n",
    "regresor_neigh.best_score_"
   ]
  },
  {
   "cell_type": "code",
   "execution_count": 56,
   "metadata": {},
   "outputs": [
    {
     "data": {
      "text/plain": [
       "array([[153000.        ],\n",
       "       [ 90436.74046953],\n",
       "       [181885.65383563],\n",
       "       ...,\n",
       "       [102850.46250519],\n",
       "       [111000.        ],\n",
       "       [249250.        ]])"
      ]
     },
     "execution_count": 56,
     "metadata": {},
     "output_type": "execute_result"
    }
   ],
   "source": [
    "ypred2 = regresor_neigh.predict(xtest_scal)\n",
    "ypred2"
   ]
  },
  {
   "cell_type": "code",
   "execution_count": 57,
   "metadata": {},
   "outputs": [
    {
     "data": {
      "text/plain": [
       "153963.01372779722"
      ]
     },
     "execution_count": 57,
     "metadata": {},
     "output_type": "execute_result"
    }
   ],
   "source": [
    "# calculo el RMSE (root mean square error) del test\n",
    "np.sqrt(mean_squared_error(ytest, ypred2))"
   ]
  },
  {
   "cell_type": "code",
   "execution_count": 58,
   "metadata": {},
   "outputs": [
    {
     "data": {
      "text/plain": [
       "63395.661455611145"
      ]
     },
     "execution_count": 58,
     "metadata": {},
     "output_type": "execute_result"
    }
   ],
   "source": [
    "# calculo el MAE (mean absolute error) del test\n",
    "mean_absolute_error(ytest, ypred2)"
   ]
  },
  {
   "cell_type": "code",
   "execution_count": 59,
   "metadata": {},
   "outputs": [
    {
     "data": {
      "text/plain": [
       "23704609596.145878"
      ]
     },
     "execution_count": 59,
     "metadata": {},
     "output_type": "execute_result"
    }
   ],
   "source": [
    "# calculo el MSE (mean square error) del test\n",
    "mean_squared_error(ytest, ypred2)"
   ]
  },
  {
   "cell_type": "code",
   "execution_count": 60,
   "metadata": {},
   "outputs": [],
   "source": [
    "#Lo mismo para train\n",
    "ytrainpred2 = regresor_neigh.predict(xtrain_scal)"
   ]
  },
  {
   "cell_type": "code",
   "execution_count": 61,
   "metadata": {},
   "outputs": [
    {
     "data": {
      "text/plain": [
       "69728.32848852838"
      ]
     },
     "execution_count": 61,
     "metadata": {},
     "output_type": "execute_result"
    }
   ],
   "source": [
    "# calculo el RMSE (root mean square error) del train\n",
    "np.sqrt(mean_squared_error(ytrain, ytrainpred2))"
   ]
  },
  {
   "cell_type": "code",
   "execution_count": 62,
   "metadata": {},
   "outputs": [
    {
     "data": {
      "text/plain": [
       "10661.483846150633"
      ]
     },
     "execution_count": 62,
     "metadata": {},
     "output_type": "execute_result"
    }
   ],
   "source": [
    "# calculo el MAE (mean absolute error) del train\n",
    "mean_absolute_error(ytrain, ytrainpred2)"
   ]
  },
  {
   "cell_type": "markdown",
   "metadata": {},
   "source": [
    "# SVR"
   ]
  },
  {
   "cell_type": "code",
   "execution_count": 88,
   "metadata": {},
   "outputs": [],
   "source": [
    "# creo un modelo de SVR\n",
    "svreg = SVR()"
   ]
  },
  {
   "cell_type": "code",
   "execution_count": 89,
   "metadata": {},
   "outputs": [],
   "source": [
    "# cantidad de folds para el cross validation\n",
    "n_folds = 5"
   ]
  },
  {
   "cell_type": "code",
   "execution_count": 90,
   "metadata": {},
   "outputs": [],
   "source": [
    "# Distintos hiper parametros a probar en grid search (pruebo gridsearch por kernels separados)\n",
    "parameters_svr_lin = [{'kernel':['linear'], 'C': [75, 150]}]\n",
    "parameters_svr_rbf = [{'kernel':['rbf'] , 'C': [75,150],'gamma': [0.005,0.01] }]\n",
    "\n",
    "regresor_svr_lin = GridSearchCV(svreg, parameters_svr_lin, cv=n_folds, verbose=True)\n",
    "regresor_svr_rbf = GridSearchCV(svreg, parameters_svr_rbf, cv=n_folds, verbose=True)"
   ]
  },
  {
   "cell_type": "code",
   "execution_count": 91,
   "metadata": {},
   "outputs": [],
   "source": [
    "# LINEAL"
   ]
  },
  {
   "cell_type": "code",
   "execution_count": 92,
   "metadata": {},
   "outputs": [
    {
     "name": "stdout",
     "output_type": "stream",
     "text": [
      "Fitting 5 folds for each of 2 candidates, totalling 10 fits\n"
     ]
    },
    {
     "name": "stderr",
     "output_type": "stream",
     "text": [
      "[Parallel(n_jobs=1)]: Using backend SequentialBackend with 1 concurrent workers.\n",
      "[Parallel(n_jobs=1)]: Done  10 out of  10 | elapsed:  2.4min finished\n"
     ]
    },
    {
     "data": {
      "text/plain": [
       "GridSearchCV(cv=5, error_score='raise-deprecating',\n",
       "             estimator=SVR(C=1.0, cache_size=200, coef0=0.0, degree=3,\n",
       "                           epsilon=0.1, gamma='auto_deprecated', kernel='rbf',\n",
       "                           max_iter=-1, shrinking=True, tol=0.001,\n",
       "                           verbose=False),\n",
       "             iid='warn', n_jobs=None,\n",
       "             param_grid=[{'C': [75, 150], 'kernel': ['linear']}],\n",
       "             pre_dispatch='2*n_jobs', refit=True, return_train_score=False,\n",
       "             scoring=None, verbose=True)"
      ]
     },
     "execution_count": 92,
     "metadata": {},
     "output_type": "execute_result"
    }
   ],
   "source": [
    "regresor_svr_lin.fit(xtrain_scal,ytrain.ravel())"
   ]
  },
  {
   "cell_type": "code",
   "execution_count": 93,
   "metadata": {},
   "outputs": [
    {
     "data": {
      "text/plain": [
       "{'C': 150, 'kernel': 'linear'}"
      ]
     },
     "execution_count": 93,
     "metadata": {},
     "output_type": "execute_result"
    }
   ],
   "source": [
    "regresor_svr_lin.best_params_"
   ]
  },
  {
   "cell_type": "code",
   "execution_count": 94,
   "metadata": {},
   "outputs": [
    {
     "data": {
      "text/plain": [
       "0.31890014127563193"
      ]
     },
     "execution_count": 94,
     "metadata": {},
     "output_type": "execute_result"
    }
   ],
   "source": [
    "regresor_svr_lin.best_score_"
   ]
  },
  {
   "cell_type": "code",
   "execution_count": 95,
   "metadata": {},
   "outputs": [],
   "source": [
    "ypred3 = regresor_svr_lin.predict(xtest_scal)"
   ]
  },
  {
   "cell_type": "code",
   "execution_count": 96,
   "metadata": {},
   "outputs": [
    {
     "data": {
      "text/plain": [
       "232062.3818038459"
      ]
     },
     "execution_count": 96,
     "metadata": {},
     "output_type": "execute_result"
    }
   ],
   "source": [
    "# calculo el RMSE (root mean square error) del test\n",
    "np.sqrt(mean_squared_error(ytest, ypred3))"
   ]
  },
  {
   "cell_type": "code",
   "execution_count": 97,
   "metadata": {},
   "outputs": [
    {
     "data": {
      "text/plain": [
       "86058.93411523191"
      ]
     },
     "execution_count": 97,
     "metadata": {},
     "output_type": "execute_result"
    }
   ],
   "source": [
    "# calculo el MAE (mean absolute error) del test\n",
    "mean_absolute_error(ytest, ypred3)"
   ]
  },
  {
   "cell_type": "code",
   "execution_count": 98,
   "metadata": {},
   "outputs": [
    {
     "data": {
      "text/plain": [
       "53852949048.473946"
      ]
     },
     "execution_count": 98,
     "metadata": {},
     "output_type": "execute_result"
    }
   ],
   "source": [
    "# calculo el MSE (mean square error) del test\n",
    "mean_squared_error(ytest, ypred3)"
   ]
  },
  {
   "cell_type": "code",
   "execution_count": 99,
   "metadata": {},
   "outputs": [],
   "source": [
    "#Lo mismo para train\n",
    "ytrainpred3 = regresor_svr_lin.predict(xtrain_scal)"
   ]
  },
  {
   "cell_type": "code",
   "execution_count": 100,
   "metadata": {},
   "outputs": [
    {
     "data": {
      "text/plain": [
       "247435.93441186982"
      ]
     },
     "execution_count": 100,
     "metadata": {},
     "output_type": "execute_result"
    }
   ],
   "source": [
    "# calculo el RMSE (root mean square error) del train\n",
    "np.sqrt(mean_squared_error(ytrain, ytrainpred3))"
   ]
  },
  {
   "cell_type": "code",
   "execution_count": 101,
   "metadata": {},
   "outputs": [
    {
     "data": {
      "text/plain": [
       "88456.14038116703"
      ]
     },
     "execution_count": 101,
     "metadata": {},
     "output_type": "execute_result"
    }
   ],
   "source": [
    "# calculo el MAE (mean absolute error) del train\n",
    "mean_absolute_error(ytrain, ytrainpred3)"
   ]
  },
  {
   "cell_type": "code",
   "execution_count": 102,
   "metadata": {},
   "outputs": [],
   "source": [
    "# Gaussiano"
   ]
  },
  {
   "cell_type": "code",
   "execution_count": 103,
   "metadata": {},
   "outputs": [
    {
     "name": "stdout",
     "output_type": "stream",
     "text": [
      "Fitting 5 folds for each of 4 candidates, totalling 20 fits\n"
     ]
    },
    {
     "name": "stderr",
     "output_type": "stream",
     "text": [
      "[Parallel(n_jobs=1)]: Using backend SequentialBackend with 1 concurrent workers.\n",
      "[Parallel(n_jobs=1)]: Done  20 out of  20 | elapsed:  7.2min finished\n"
     ]
    },
    {
     "data": {
      "text/plain": [
       "GridSearchCV(cv=5, error_score='raise-deprecating',\n",
       "             estimator=SVR(C=1.0, cache_size=200, coef0=0.0, degree=3,\n",
       "                           epsilon=0.1, gamma='auto_deprecated', kernel='rbf',\n",
       "                           max_iter=-1, shrinking=True, tol=0.001,\n",
       "                           verbose=False),\n",
       "             iid='warn', n_jobs=None,\n",
       "             param_grid=[{'C': [75, 150], 'gamma': [0.005, 0.01],\n",
       "                          'kernel': ['rbf']}],\n",
       "             pre_dispatch='2*n_jobs', refit=True, return_train_score=False,\n",
       "             scoring=None, verbose=True)"
      ]
     },
     "execution_count": 103,
     "metadata": {},
     "output_type": "execute_result"
    }
   ],
   "source": [
    "regresor_svr_rbf.fit(xtrain_scal,ytrain.ravel())"
   ]
  },
  {
   "cell_type": "code",
   "execution_count": 104,
   "metadata": {},
   "outputs": [
    {
     "data": {
      "text/plain": [
       "{'C': 150, 'gamma': 0.01, 'kernel': 'rbf'}"
      ]
     },
     "execution_count": 104,
     "metadata": {},
     "output_type": "execute_result"
    }
   ],
   "source": [
    "regresor_svr_rbf.best_params_"
   ]
  },
  {
   "cell_type": "code",
   "execution_count": 105,
   "metadata": {},
   "outputs": [
    {
     "data": {
      "text/plain": [
       "-0.024298530912573967"
      ]
     },
     "execution_count": 105,
     "metadata": {},
     "output_type": "execute_result"
    }
   ],
   "source": [
    "regresor_svr_rbf.best_score_"
   ]
  },
  {
   "cell_type": "code",
   "execution_count": 106,
   "metadata": {},
   "outputs": [],
   "source": [
    "ypred4 = regresor_svr_rbf.predict(xtest_scal)"
   ]
  },
  {
   "cell_type": "code",
   "execution_count": 107,
   "metadata": {},
   "outputs": [
    {
     "data": {
      "text/plain": [
       "287859.34696704487"
      ]
     },
     "execution_count": 107,
     "metadata": {},
     "output_type": "execute_result"
    }
   ],
   "source": [
    "# calculo el RMSE (root mean square error) del test\n",
    "np.sqrt(mean_squared_error(ytest, ypred4))"
   ]
  },
  {
   "cell_type": "code",
   "execution_count": 108,
   "metadata": {},
   "outputs": [
    {
     "data": {
      "text/plain": [
       "139222.24277039722"
      ]
     },
     "execution_count": 108,
     "metadata": {},
     "output_type": "execute_result"
    }
   ],
   "source": [
    "# calculo el MAE (mean absolute error) del test\n",
    "mean_absolute_error(ytest, ypred4)"
   ]
  },
  {
   "cell_type": "code",
   "execution_count": 109,
   "metadata": {},
   "outputs": [
    {
     "data": {
      "text/plain": [
       "82863003636.29352"
      ]
     },
     "execution_count": 109,
     "metadata": {},
     "output_type": "execute_result"
    }
   ],
   "source": [
    "# calculo el MSE (mean square error) del test\n",
    "mean_squared_error(ytest, ypred4)"
   ]
  },
  {
   "cell_type": "code",
   "execution_count": 110,
   "metadata": {},
   "outputs": [],
   "source": [
    "#Lo mismo para train\n",
    "ytrainpred4 = regresor_svr_rbf.predict(xtrain_scal)"
   ]
  },
  {
   "cell_type": "code",
   "execution_count": 111,
   "metadata": {},
   "outputs": [
    {
     "data": {
      "text/plain": [
       "300998.3721704818"
      ]
     },
     "execution_count": 111,
     "metadata": {},
     "output_type": "execute_result"
    }
   ],
   "source": [
    "# calculo el RMSE (root mean square error) del train\n",
    "np.sqrt(mean_squared_error(ytrain, ytrainpred4))"
   ]
  },
  {
   "cell_type": "code",
   "execution_count": 112,
   "metadata": {},
   "outputs": [
    {
     "data": {
      "text/plain": [
       "137954.45125974584"
      ]
     },
     "execution_count": 112,
     "metadata": {},
     "output_type": "execute_result"
    }
   ],
   "source": [
    "# calculo el MAE (mean absolute error) del train\n",
    "mean_absolute_error(ytrain, ytrainpred4)"
   ]
  }
 ],
 "metadata": {
  "kernelspec": {
   "display_name": "Python 3",
   "language": "python",
   "name": "python3"
  },
  "language_info": {
   "codemirror_mode": {
    "name": "ipython",
    "version": 3
   },
   "file_extension": ".py",
   "mimetype": "text/x-python",
   "name": "python",
   "nbconvert_exporter": "python",
   "pygments_lexer": "ipython3",
   "version": "3.7.3"
  }
 },
 "nbformat": 4,
 "nbformat_minor": 2
}
